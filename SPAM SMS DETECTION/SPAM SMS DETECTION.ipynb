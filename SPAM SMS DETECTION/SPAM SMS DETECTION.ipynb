import pandas as pd
from sklearn.feature_extraction.text import TfidfVectorizer
from sklearn.model_selection import train_test_split
from sklearn.naive_bayes import MultinomialNB
from sklearn.linear_model import LogisticRegression
from sklearn.svm import SVC
from sklearn.metrics import accuracy_score, classification_report, confusion_matrix

def load_and_preprocess_data(file_path):
    df = pd.read_csv(file_path, encoding='latin-1')
    # Drop unnecessary columns
    df = df[['v1', 'v2']]
    # Rename columns
    df.columns = ['label', 'message']
    # Convert labels to binary (0 for ham, 1 for spam)
    df['label'] = df['label'].map({'ham': 0, 'spam': 1})
    return df

def create_tfidf_features(X):
    tfidf = TfidfVectorizer(max_features=5000, stop_words='english')
    X_tfidf = tfidf.fit_transform(X)
    return X_tfidf, tfidf

def train_and_evaluate_models(X_train, X_test, y_train, y_test)
    models = {
        'Naive Bayes': MultinomialNB(),
        'Logistic Regression': LogisticRegression(max_iter=1000),
        'Support Vector Machine': SVC(kernel='linear')
    }

    results = {}
    for name, model in models.items():
        model.fit(X_train, y_train)
        y_pred = model.predict(X_test)
        accuracy = accuracy_score(y_test, y_pred)
        report = classification_report(y_test, y_pred, target_names=['Ham', 'Spam'])
        cm = confusion_matrix(y_test, y_pred)
        results[name] = {
            'model': model,
            'accuracy': accuracy,
            'report': report,
            'confusion_matrix': cm
        }

    return results

def main():
    df = load_and_preprocess_data('spam.csv')

    X = df['message']
    y = df['label']

    X_tfidf, tfidf = create_tfidf_features(X)

    X_train, X_test, y_train, y_test = train_test_split(
        X_tfidf, y, test_size=0.2, random_state=42
    )

    results = train_and_evaluate_models(X_train, X_test, y_train, y_test)

    for model_name, metrics in results.items():
        print(f"\n====== {model_name} ======")
        print(f"Accuracy: {metrics['accuracy']:.4f}")
        print("\nClassification Report:")
        print(metrics['report'])
        print("\nConfusion Matrix:")
        print(metrics['confusion_matrix'])

if __name__ == "__main__":
    main()
