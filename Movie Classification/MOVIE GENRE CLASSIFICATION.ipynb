import pandas as pd
import numpy as np
from sklearn.feature_extraction.text import TfidfVectorizer
from sklearn.model_selection import train_test_split
from sklearn.naive_bayes import MultinomialNB
from sklearn.metrics import classification_report
import nltk
import re
from nltk.corpus import stopwords
from nltk.stem import WordNetLemmatizer
import joblib

# Load the dataset
df = pd.read_csv('train_data.txt', delimiter=':::', header=None, names=['Index', 'Plot', 'Genre', 'Extra'], engine='python')

# Drop unnecessary columns and rows with missing values
df = df[['Plot', 'Genre']].dropna()

# Inspect the data
print(df.head())

# Text preprocessing
nltk.download('stopwords')
nltk.download('wordnet')
stop_words = set(stopwords.words('english'))
lemmatizer = WordNetLemmatizer()

def preprocess_text(text):
    # Remove non-alphabetic characters
    text = re.sub('[^a-zA-Z]', ' ', text)
    # Convert to lowercase
    text = text.lower()
    # Tokenize and remove stop words
    words = text.split()
    words = [lemmatizer.lemmatize(word) for word in words if word not in stop_words]
    return ' '.join(words)

# Apply preprocessing
df['Cleaned_Plot'] = df['Plot'].apply(preprocess_text)

# Feature extraction using TF-IDF
vectorizer = TfidfVectorizer()
X = vectorizer.fit_transform(df['Cleaned_Plot'])
y = df['Genre']

# Split the dataset into training and testing sets
X_train, X_test, y_train, y_test = train_test_split(X, y, test_size=0.2, random_state=42)

# Initialize and train the Naive Bayes model
model = MultinomialNB()
model.fit(X_train, y_train)

# Make predictions
y_pred = model.predict(X_test)

# Evaluate the model
print(classification_report(y_test, y_pred))

# Save the model and vectorizer
joblib.dump(model, 'movie_genre_model.pkl')
joblib.dump(vectorizer, 'tfidf_vectorizer.pkl')

# Example of making predictions on new data
new_plot_summaries = ["A thrilling adventure in space.", "A heartwarming story about friendship."]
new_X = vectorizer.transform([preprocess_text(plot) for plot in new_plot_summaries])
predictions = model.predict(new_X)

print("Predictions for new plot summaries:", predictions)
